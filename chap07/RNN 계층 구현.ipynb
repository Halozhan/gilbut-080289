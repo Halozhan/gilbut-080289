{
 "cells": [
  {
   "cell_type": "code",
   "execution_count": 1,
   "metadata": {},
   "outputs": [],
   "source": [
    "# 코드 7-19 라이브러리 호출\n",
    "import torch\n",
    "import torchtext\n",
    "import numpy as np\n",
    "import torch.nn as nn\n",
    "import torch.nn.functional as F\n",
    "import time"
   ]
  },
  {
   "cell_type": "code",
   "execution_count": 2,
   "metadata": {},
   "outputs": [],
   "source": [
    "# 코드 7-20 데이터셋 내려받기 및 전처리\n",
    "start = time.time()\n",
    "TEXT = torchtext.legacy.data.Field(sequential=True, batch_first=True, lower=True)\n",
    "LABEL = torchtext.legacy.data.Field(sequential=False, batch_first=True)\n",
    "\n",
    "from torchtext.legacy import datasets\n",
    "\n",
    "train_data, test_data = datasets.IMDB.splits(TEXT, LABEL)  # 역시 IMDB를 사용합니다.\n",
    "train_data, valid_data = train_data.split(split_ratio=0.8)\n",
    "\n",
    "TEXT.build_vocab(train_data, max_size=10000, min_freq=10, vectors=None)\n",
    "LABEL.build_vocab(train_data)\n",
    "\n",
    "BATCH_SIZE = 100\n",
    "device = torch.device(\"cuda:0\" if torch.cuda.is_available() else \"cpu\")"
   ]
  },
  {
   "cell_type": "code",
   "execution_count": 3,
   "metadata": {},
   "outputs": [],
   "source": [
    "# 코드 7-21 데이터셋 분리\n",
    "train_iterator, valid_iterator, test_iterator = (\n",
    "    torchtext.legacy.data.BucketIterator.splits(\n",
    "        (train_data, valid_data, test_data), batch_size=BATCH_SIZE, device=device\n",
    "    )\n",
    ")"
   ]
  },
  {
   "cell_type": "code",
   "execution_count": 4,
   "metadata": {},
   "outputs": [],
   "source": [
    "# 코드 7-22 변수 값 지정\n",
    "vocab_size = len(TEXT.vocab)\n",
    "n_classes = 2  # pos(긍정), neg(부정)"
   ]
  },
  {
   "cell_type": "code",
   "execution_count": 5,
   "metadata": {},
   "outputs": [],
   "source": [
    "# 코드 7-23 RNN 계층 네트워크\n",
    "class BasicRNN(nn.Module):\n",
    "    def __init__(\n",
    "        self, n_layers, hidden_dim, n_vocab, embed_dim, n_classes, dropout_p=0.2\n",
    "    ):\n",
    "        super(BasicRNN, self).__init__()\n",
    "        self.n_layers = n_layers  # RNN 계층에 대한 개수\n",
    "        self.embed = nn.Embedding(n_vocab, embed_dim)  # 워드 임베딩 적용\n",
    "        self.hidden_dim = hidden_dim\n",
    "        self.dropout = nn.Dropout(dropout_p)  # 드롭아웃 적용\n",
    "        self.rnn = nn.RNN(\n",
    "            embed_dim, self.hidden_dim, num_layers=self.n_layers, batch_first=True\n",
    "        )\n",
    "        self.out = nn.Linear(self.hidden_dim, n_classes)\n",
    "\n",
    "    def forward(self, x):\n",
    "        x = self.embed(x)  # 문자를 숫자/벡터로 변환\n",
    "        h_0 = self._init_state(\n",
    "            batch_size=x.size(0)\n",
    "        )  # 최초 은닉 상태의 값을 0으로 초기화\n",
    "        x, _ = self.rnn(\n",
    "            x, h_0\n",
    "        )  # RNN 계층을 의미하며, 파라미터로 입력과 이전 은닉 상태의 값을 받습니다.\n",
    "        h_t = x[\n",
    "            :, -1, :\n",
    "        ]  # 모든 네트워크를 거쳐서 가장 마지막에 나온 단어의 임베딩 값(마지막 은닉 상태의 값)\n",
    "        self.dropout(h_t)\n",
    "        logit = torch.sigmoid(self.out(h_t))\n",
    "        return logit\n",
    "\n",
    "    def _init_state(self, batch_size=1):\n",
    "        weight = next(\n",
    "            self.parameters()\n",
    "        ).data  # 모델의 파라미터 값을 가져와서 weight 변수에 저장\n",
    "        return weight.new(\n",
    "            self.n_layers, batch_size, self.hidden_dim\n",
    "        ).zero_()  # 크기가 (계층의 개수, 배치 크기, 은닉층의 뉴런/유닛 개수)인 은닉 상태(텐서)를 생성하여 0으로 초기화한 후 반환"
   ]
  },
  {
   "cell_type": "code",
   "execution_count": 6,
   "metadata": {},
   "outputs": [],
   "source": [
    "# 코드 7-24 손실 함수와 옵티마이저 설정\n",
    "model = BasicRNN(\n",
    "    n_layers=1,\n",
    "    hidden_dim=256,\n",
    "    n_vocab=vocab_size,\n",
    "    embed_dim=128,\n",
    "    n_classes=n_classes,\n",
    "    dropout_p=0.5,\n",
    ")\n",
    "model.to(device)\n",
    "\n",
    "loss_fn = nn.CrossEntropyLoss()\n",
    "optimizer = torch.optim.Adam(model.parameters(), lr=0.0001)"
   ]
  },
  {
   "cell_type": "code",
   "execution_count": 20,
   "metadata": {},
   "outputs": [],
   "source": [
    "# 코드 7-25 모델 학습 함수\n",
    "def train(model, optimizer, train_iter):\n",
    "    model.train()\n",
    "    for b, batch in enumerate(train_iter):\n",
    "        x, y = batch.text.to(device), batch.label.to(device)\n",
    "        y.data.sub_(1)\n",
    "        optimizer.zero_grad()\n",
    "\n",
    "        logit = model(x)\n",
    "        loss = F.cross_entropy(logit, y)\n",
    "        loss.backward()\n",
    "        optimizer.step()\n",
    "\n",
    "        if b % 50 == 0:  # 훈련 데이터셋의 개수를 50으로 나누어서 나머지가 0이면 출력\n",
    "            print(\n",
    "                \"Train Epoch: {} [{}/{} ({:.0f}%)]\\tLoss: {:.6f}\".format(\n",
    "                    e,\n",
    "                    b * len(x),\n",
    "                    len(train_iterator.dataset),\n",
    "                    100.0 * b / len(train_iterator),\n",
    "                    loss.item(),\n",
    "                )\n",
    "            )"
   ]
  },
  {
   "cell_type": "code",
   "execution_count": 21,
   "metadata": {},
   "outputs": [],
   "source": [
    "# 코드 7-26 모델 평가 함수\n",
    "def evaluate(model, val_iter):\n",
    "    model.eval()\n",
    "    corrects, total, total_loss = 0, 0, 0\n",
    "\n",
    "    for batch in val_iter:\n",
    "        x, y = batch.text.to(device), batch.label.to(device)\n",
    "        y.data.sub_(1)\n",
    "        logit = model(x)\n",
    "        loss = F.cross_entropy(logit, y, reduction=\"sum\")\n",
    "        total += y.size(0)\n",
    "        total_loss += loss.item()\n",
    "        corrects += (logit.max(1)[1].view(y.size()).data == y.data).sum()\n",
    "\n",
    "    avg_loss = total_loss / len(val_iter.dataset)\n",
    "    avg_accuracy = corrects / total\n",
    "    return avg_loss, avg_accuracy"
   ]
  },
  {
   "cell_type": "code",
   "execution_count": 22,
   "metadata": {},
   "outputs": [
    {
     "name": "stdout",
     "output_type": "stream",
     "text": [
      "Train Epoch: 1 [0/20000 (0%)]\tLoss: 0.693566\n",
      "Train Epoch: 1 [5000/20000 (25%)]\tLoss: 0.695677\n",
      "Train Epoch: 1 [10000/20000 (50%)]\tLoss: 0.692407\n",
      "Train Epoch: 1 [15000/20000 (75%)]\tLoss: 0.689900\n",
      "[EPOCH: 1], Validation Loss:  0.69 | Validation Accuracy:  0.51\n",
      "Train Epoch: 2 [0/20000 (0%)]\tLoss: 0.693259\n",
      "Train Epoch: 2 [5000/20000 (25%)]\tLoss: 0.692251\n",
      "Train Epoch: 2 [10000/20000 (50%)]\tLoss: 0.690142\n",
      "Train Epoch: 2 [15000/20000 (75%)]\tLoss: 0.701210\n",
      "[EPOCH: 2], Validation Loss:  0.69 | Validation Accuracy:  0.50\n",
      "Train Epoch: 3 [0/20000 (0%)]\tLoss: 0.694055\n",
      "Train Epoch: 3 [5000/20000 (25%)]\tLoss: 0.699353\n",
      "Train Epoch: 3 [10000/20000 (50%)]\tLoss: 0.692231\n",
      "Train Epoch: 3 [15000/20000 (75%)]\tLoss: 0.693730\n",
      "[EPOCH: 3], Validation Loss:  0.69 | Validation Accuracy:  0.50\n",
      "Train Epoch: 4 [0/20000 (0%)]\tLoss: 0.693572\n",
      "Train Epoch: 4 [5000/20000 (25%)]\tLoss: 0.697761\n",
      "Train Epoch: 4 [10000/20000 (50%)]\tLoss: 0.692645\n",
      "Train Epoch: 4 [15000/20000 (75%)]\tLoss: 0.694609\n",
      "[EPOCH: 4], Validation Loss:  0.69 | Validation Accuracy:  0.51\n",
      "Train Epoch: 5 [0/20000 (0%)]\tLoss: 0.693155\n",
      "Train Epoch: 5 [5000/20000 (25%)]\tLoss: 0.690710\n",
      "Train Epoch: 5 [10000/20000 (50%)]\tLoss: 0.692979\n",
      "Train Epoch: 5 [15000/20000 (75%)]\tLoss: 0.693120\n",
      "[EPOCH: 5], Validation Loss:  0.69 | Validation Accuracy:  0.51\n"
     ]
    }
   ],
   "source": [
    "# 코드 7-27 모델 학습 및 평가\n",
    "BATCH_SIZE = 100\n",
    "LR = 0.001\n",
    "EPOCHS = 5\n",
    "for e in range(1, EPOCHS + 1):\n",
    "    train(model, optimizer, train_iterator)\n",
    "    val_loss, val_accuracy = evaluate(model, valid_iterator)\n",
    "    print(\n",
    "        \"[EPOCH: %d], Validation Loss: %5.2f | Validation Accuracy: %5.2f\"\n",
    "        % (e, val_loss, val_accuracy)\n",
    "    )"
   ]
  },
  {
   "cell_type": "code",
   "execution_count": 23,
   "metadata": {},
   "outputs": [
    {
     "name": "stdout",
     "output_type": "stream",
     "text": [
      "Test Loss:  0.69 | Test Accuracy:  0.54\n"
     ]
    }
   ],
   "source": [
    "# 코드 7-28 테스트 데이터셋을 이용한 모델 예측\n",
    "test_loss, test_acc = evaluate(model, test_iterator)\n",
    "print(\"Test Loss: %5.2f | Test Accuracy: %5.2f\" % (test_loss, test_acc))"
   ]
  }
 ],
 "metadata": {
  "kernelspec": {
   "display_name": ".venv",
   "language": "python",
   "name": "python3"
  },
  "language_info": {
   "codemirror_mode": {
    "name": "ipython",
    "version": 3
   },
   "file_extension": ".py",
   "mimetype": "text/x-python",
   "name": "python",
   "nbconvert_exporter": "python",
   "pygments_lexer": "ipython3",
   "version": "3.8.20"
  }
 },
 "nbformat": 4,
 "nbformat_minor": 2
}
