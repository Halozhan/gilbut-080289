{
 "cells": [
  {
   "cell_type": "code",
   "execution_count": 1,
   "metadata": {},
   "outputs": [],
   "source": [
    "# 코드 7-3 라이브러리 호출\n",
    "import torch\n",
    "import torchtext\n",
    "import numpy as np\n",
    "import torch.nn as nn\n",
    "import torch.nn.functional as F\n",
    "import time"
   ]
  },
  {
   "cell_type": "code",
   "execution_count": 2,
   "metadata": {},
   "outputs": [],
   "source": [
    "# 코드 7-4 데이터 전처리\n",
    "start = time.time()\n",
    "TEXT = torchtext.legacy.data.Field(lower=True, fix_length=200, batch_first=False)\n",
    "LABEL = torchtext.legacy.data.Field(sequential=False)"
   ]
  },
  {
   "cell_type": "code",
   "execution_count": 3,
   "metadata": {},
   "outputs": [
    {
     "name": "stdout",
     "output_type": "stream",
     "text": [
      "downloading aclImdb_v1.tar.gz\n"
     ]
    },
    {
     "name": "stderr",
     "output_type": "stream",
     "text": [
      "aclImdb_v1.tar.gz: 100%|██████████| 84.1M/84.1M [01:55<00:00, 730kB/s] \n"
     ]
    }
   ],
   "source": [
    "# 코드 7-5 데이터셋 준비\n",
    "from torchtext.legacy import datasets\n",
    "\n",
    "train_data, test_data = datasets.IMDB.splits(TEXT, LABEL)"
   ]
  },
  {
   "cell_type": "code",
   "execution_count": 4,
   "metadata": {},
   "outputs": [
    {
     "name": "stdout",
     "output_type": "stream",
     "text": [
      "{'text': ['<br', '/><br', '/>human', 'body', '---', 'wow.<br', '/><br', '/>there', 'are', 'about', '27,000', 'sunrises', 'in', 'human', 'life....<br', '/><br', '/>hardly', 'one', 'thousand', 'sunrises', 'will', 'be', 'watched', 'by', '90%', 'of', 'humans', 'on', 'this', 'planet....<br', '/><br', '/>our', 'days', 'are', 'limited...<br', '/><br', '/>excellent', 'movie', 'for', 'all', 'women....', 'makers', 'of', 'human', 'body...<br', '/><br', '/>thanks', 'and', 'regards.<br', '/><br', '/>'], 'label': 'pos'}\n"
     ]
    }
   ],
   "source": [
    "# 코드 7-6 훈련 데이터셋 내용 확인\n",
    "print(vars(train_data.examples[0]))  # 데이터셋의 내용을 보고자 할 때는 examples를 사용"
   ]
  },
  {
   "cell_type": "code",
   "execution_count": 5,
   "metadata": {},
   "outputs": [],
   "source": [
    "# 코드 7-7 데이터셋 전처리 적용\n",
    "import string\n",
    "\n",
    "for example in train_data.examples:\n",
    "    text = [x.lower() for x in vars(example)[\"text\"]]  # 소문자로 변경\n",
    "    text = [x.replace(\"<br\", \"\") for x in text]  # “<br”을 “ ”(공백)으로 변경\n",
    "    text = [\n",
    "        \"\".join(c for c in s if c not in string.punctuation) for s in text\n",
    "    ]  # 구두점 제거\n",
    "    text = [s for s in text if s]  # 공백 제거\n",
    "    vars(example)[\"text\"] = text"
   ]
  },
  {
   "cell_type": "code",
   "execution_count": 6,
   "metadata": {},
   "outputs": [],
   "source": [
    "# 코드 7-8 훈련과 검증 데이터셋 분리\n",
    "import random\n",
    "\n",
    "train_data, valid_data = train_data.split(random_state=random.seed(0), split_ratio=0.8)"
   ]
  },
  {
   "cell_type": "code",
   "execution_count": 7,
   "metadata": {},
   "outputs": [
    {
     "name": "stdout",
     "output_type": "stream",
     "text": [
      "Number of training examples: 20000\n",
      "Number of validation examples: 5000\n",
      "Number of testing examples: 25000\n"
     ]
    }
   ],
   "source": [
    "# 코드 7-9 데이터셋 개수 확인\n",
    "print(f\"Number of training examples: {len(train_data)}\")\n",
    "print(f\"Number of validation examples: {len(valid_data)}\")\n",
    "print(f\"Number of testing examples: {len(test_data)}\")"
   ]
  },
  {
   "cell_type": "code",
   "execution_count": 8,
   "metadata": {},
   "outputs": [
    {
     "name": "stdout",
     "output_type": "stream",
     "text": [
      "Unique tokens in TEXT vocabulary: 10002\n",
      "Unique tokens in LABEL vocabulary: 3\n"
     ]
    }
   ],
   "source": [
    "# 코드 7-10 단어 집합 만들기\n",
    "TEXT.build_vocab(train_data, max_size=10000, min_freq=10, vectors=None)\n",
    "LABEL.build_vocab(train_data)\n",
    "\n",
    "print(f\"Unique tokens in TEXT vocabulary: {len(TEXT.vocab)}\")\n",
    "print(f\"Unique tokens in LABEL vocabulary: {len(LABEL.vocab)}\")"
   ]
  },
  {
   "cell_type": "code",
   "execution_count": 9,
   "metadata": {},
   "outputs": [
    {
     "name": "stdout",
     "output_type": "stream",
     "text": [
      "defaultdict(<bound method Vocab._default_unk_index of <torchtext.legacy.vocab.Vocab object at 0x7f11fc5d40a0>>, {'<unk>': 0, 'pos': 1, 'neg': 2})\n"
     ]
    }
   ],
   "source": [
    "# 코드 7-11 테스트 데이터셋의 단어 집합 확인\n",
    "print(LABEL.vocab.stoi)"
   ]
  },
  {
   "cell_type": "code",
   "execution_count": 10,
   "metadata": {},
   "outputs": [],
   "source": [
    "# 코드 7-12 데이터셋 메모리로 가져오기\n",
    "BATCH_SIZE = 64\n",
    "device = torch.device(\"cuda:0\" if torch.cuda.is_available() else \"cpu\")\n",
    "\n",
    "embeding_dim = 100  # 각 단어를 100차원으로 조정(임베딩 계층을 통과한 후 각 벡터의 크기)\n",
    "hidden_size = 300\n",
    "\n",
    "train_iterator, valid_iterator, test_iterator = (\n",
    "    torchtext.legacy.data.BucketIterator.splits(\n",
    "        (train_data, valid_data, test_data), batch_size=BATCH_SIZE, device=device\n",
    "    )\n",
    ")"
   ]
  },
  {
   "cell_type": "code",
   "execution_count": 11,
   "metadata": {},
   "outputs": [],
   "source": [
    "# 코드 7-13 워드 임베딩 및 RNN 셀 정의\n",
    "class RNNCell_Encoder(nn.Module):\n",
    "    def __init__(self, input_dim, hidden_size):\n",
    "        super(RNNCell_Encoder, self).__init__()\n",
    "        self.rnn = nn.RNNCell(input_dim, hidden_size)\n",
    "\n",
    "    def forward(\n",
    "        self, inputs\n",
    "    ):  # inputs는 입력 시퀀스로 (시퀀스 길이, 배치, 임베딩(seq,batch, embedding))의 형태를 갖습니다.\n",
    "        bz = inputs.shape[1]  # 배치를 가져옵니다.\n",
    "        ht = torch.zeros((bz, hidden_size)).to(\n",
    "            device\n",
    "        )  # 배치와 은닉층 뉴런의 크기를 0으로 초기화\n",
    "        for word in inputs:\n",
    "            ht = self.rnn(word, ht)\n",
    "        return ht\n",
    "\n",
    "\n",
    "class Net(nn.Module):\n",
    "    def __init__(self):\n",
    "        super(Net, self).__init__()\n",
    "        self.em = nn.Embedding(len(TEXT.vocab.stoi), embeding_dim)\n",
    "        self.rnn = RNNCell_Encoder(embeding_dim, hidden_size)\n",
    "        self.fc1 = nn.Linear(hidden_size, 256)\n",
    "        self.fc2 = nn.Linear(256, 3)\n",
    "\n",
    "    def forward(self, x):\n",
    "        x = self.em(x)\n",
    "        x = self.rnn(x)\n",
    "        x = F.relu(self.fc1(x))\n",
    "        x = self.fc2(x)\n",
    "        return x"
   ]
  },
  {
   "cell_type": "code",
   "execution_count": 12,
   "metadata": {},
   "outputs": [],
   "source": [
    "# 코드 7-14 옵티마이저와 손실 함수 정의\n",
    "model = Net()  # model이라는 이름으로 모델을 객체화\n",
    "model.to(device)\n",
    "\n",
    "loss_fn = nn.CrossEntropyLoss()\n",
    "optimizer = torch.optim.Adam(model.parameters(), lr=0.0001)"
   ]
  },
  {
   "cell_type": "code",
   "execution_count": 13,
   "metadata": {},
   "outputs": [],
   "source": [
    "# 코드 7-15 모델 학습을 위한 함수 정의\n",
    "def training(epoch, model, trainloader, validloader):\n",
    "    correct = 0\n",
    "    total = 0\n",
    "    running_loss = 0\n",
    "\n",
    "    model.train()\n",
    "    for b in trainloader:\n",
    "        x, y = b.text, b.label  # trainloader에서 text와 label을 꺼내 옵니다.\n",
    "        x, y = x.to(device), y.to(\n",
    "            device\n",
    "        )  # 꺼내 온 데이터가 CPU를 사용할 수 있도록 장치 지정, 반드시 모델과 같은 장치를 사용하도록 지정해야 합니다.\n",
    "        y_pred = model(x)\n",
    "        loss = loss_fn(y_pred, y)  # CrossEntropyLoss 손실 함수를 이용하여 오차 계산\n",
    "        optimizer.zero_grad()\n",
    "        loss.backward()\n",
    "        optimizer.step()\n",
    "        with torch.no_grad():\n",
    "            y_pred = torch.argmax(y_pred, dim=1)\n",
    "            correct += (y_pred == y).sum().item()\n",
    "            total += y.size(0)\n",
    "            running_loss += loss.item()\n",
    "\n",
    "    epoch_loss = running_loss / len(\n",
    "        trainloader.dataset\n",
    "    )  # 누적된 오차를 전체 데이터셋으로 나누어서 에포크 단계마다 오차를 구합니다.\n",
    "    epoch_acc = correct / total\n",
    "\n",
    "    valid_correct = 0\n",
    "    valid_total = 0\n",
    "    valid_running_loss = 0\n",
    "\n",
    "    model.eval()\n",
    "    with torch.no_grad():\n",
    "        for b in validloader:\n",
    "            x, y = b.text, b.label\n",
    "            x, y = x.to(device), y.to(device)\n",
    "            y_pred = model(x)\n",
    "            loss = loss_fn(y_pred, y)\n",
    "            y_pred = torch.argmax(y_pred, dim=1)\n",
    "            valid_correct += (y_pred == y).sum().item()\n",
    "            valid_total += y.size(0)\n",
    "            valid_running_loss += loss.item()\n",
    "\n",
    "    epoch_valid_loss = valid_running_loss / len(validloader.dataset)\n",
    "    epoch_valid_acc = valid_correct / valid_total\n",
    "\n",
    "    print(\n",
    "        \"epoch: \",\n",
    "        epoch,\n",
    "        \"loss： \",\n",
    "        round(epoch_loss, 3),\n",
    "        \"accuracy:\",\n",
    "        round(epoch_acc, 3),\n",
    "        \"valid_loss： \",\n",
    "        round(epoch_valid_loss, 3),\n",
    "        \"valid_accuracy:\",\n",
    "        round(epoch_valid_acc, 3),\n",
    "    )  # 훈련이 진행될 때 에포크마다 정확도와 오차(loss)를 출력\n",
    "    return epoch_loss, epoch_acc, epoch_valid_loss, epoch_valid_acc"
   ]
  },
  {
   "cell_type": "code",
   "execution_count": 14,
   "metadata": {},
   "outputs": [
    {
     "name": "stdout",
     "output_type": "stream",
     "text": [
      "epoch:  0 loss：  0.011 accuracy: 0.495 valid_loss：  0.011 valid_accuracy: 0.504\n",
      "epoch:  1 loss：  0.011 accuracy: 0.503 valid_loss：  0.011 valid_accuracy: 0.492\n",
      "epoch:  2 loss：  0.011 accuracy: 0.509 valid_loss：  0.011 valid_accuracy: 0.493\n",
      "epoch:  3 loss：  0.011 accuracy: 0.518 valid_loss：  0.011 valid_accuracy: 0.491\n",
      "epoch:  4 loss：  0.011 accuracy: 0.527 valid_loss：  0.011 valid_accuracy: 0.508\n",
      "308.1577982902527\n"
     ]
    }
   ],
   "source": [
    "# 코드 7-16 모델 학습\n",
    "epochs = 5\n",
    "train_loss = []\n",
    "train_acc = []\n",
    "valid_loss = []\n",
    "valid_acc = []\n",
    "\n",
    "for epoch in range(epochs):\n",
    "    epoch_loss, epoch_acc, epoch_valid_loss, epoch_valid_acc = training(\n",
    "        epoch, model, train_iterator, valid_iterator\n",
    "    )\n",
    "    train_loss.append(epoch_loss)  # 훈련 데이터셋을 모델에 적용했을 때의 오차\n",
    "    train_acc.append(epoch_acc)  # 훈련 데이터셋을 모델에 적용했을 때의 정확도\n",
    "    valid_loss.append(epoch_valid_loss)  # 검증 데이터셋을 모델에 적용했을 때의 오차\n",
    "    valid_acc.append(epoch_valid_acc)  # 검증 데이터셋을 모델에 적용했을 때의 정확도\n",
    "\n",
    "end = time.time()\n",
    "print(end - start)"
   ]
  },
  {
   "cell_type": "code",
   "execution_count": 15,
   "metadata": {},
   "outputs": [],
   "source": [
    "# 코드 7-17 모델 예측 함수 정의\n",
    "def evaluate(epoch, model, testloader):\n",
    "    test_correct = 0\n",
    "    test_total = 0\n",
    "    test_running_loss = 0\n",
    "\n",
    "    model.eval()\n",
    "    with torch.no_grad():\n",
    "        for b in testloader:\n",
    "            x, y = b.text, b.label\n",
    "            x, y = x.to(device), y.to(device)\n",
    "            y_pred = model(x)\n",
    "            loss = loss_fn(y_pred, y)\n",
    "            y_pred = torch.argmax(y_pred, dim=1)\n",
    "            test_correct += (y_pred == y).sum().item()\n",
    "            test_total += y.size(0)\n",
    "            test_running_loss += loss.item()\n",
    "\n",
    "    epoch_test_loss = test_running_loss / len(testloader.dataset)\n",
    "    epoch_test_acc = test_correct / test_total\n",
    "\n",
    "    print(\n",
    "        \"epoch: \",\n",
    "        epoch,\n",
    "        \"test_loss: \",\n",
    "        round(epoch_test_loss, 3),\n",
    "        \"test_accuracy:\",\n",
    "        round(epoch_test_acc, 3),\n",
    "    )\n",
    "    return epoch_test_loss, epoch_test_acc"
   ]
  },
  {
   "cell_type": "code",
   "execution_count": 16,
   "metadata": {},
   "outputs": [
    {
     "name": "stdout",
     "output_type": "stream",
     "text": [
      "epoch:  0 test_loss:  0.011 test_accuracy: 0.505\n",
      "epoch:  1 test_loss:  0.011 test_accuracy: 0.505\n",
      "epoch:  2 test_loss:  0.011 test_accuracy: 0.505\n",
      "epoch:  3 test_loss:  0.011 test_accuracy: 0.505\n",
      "epoch:  4 test_loss:  0.011 test_accuracy: 0.505\n",
      "361.987530708313\n"
     ]
    }
   ],
   "source": [
    "# 코드 7-18 모델 예측 결과 확인\n",
    "epochs = 5\n",
    "test_loss = []\n",
    "test_acc = []\n",
    "\n",
    "for epoch in range(epochs):\n",
    "    epoch_test_loss, epoch_test_acc = evaluate(epoch, model, test_iterator)\n",
    "    test_loss.append(epoch_test_loss)\n",
    "    test_acc.append(epoch_test_acc)\n",
    "\n",
    "end = time.time()\n",
    "print(end - start)"
   ]
  }
 ],
 "metadata": {
  "kernelspec": {
   "display_name": ".venv",
   "language": "python",
   "name": "python3"
  },
  "language_info": {
   "codemirror_mode": {
    "name": "ipython",
    "version": 3
   },
   "file_extension": ".py",
   "mimetype": "text/x-python",
   "name": "python",
   "nbconvert_exporter": "python",
   "pygments_lexer": "ipython3",
   "version": "3.8.20"
  }
 },
 "nbformat": 4,
 "nbformat_minor": 2
}
