{
 "cells": [
  {
   "cell_type": "code",
   "execution_count": 1,
   "metadata": {},
   "outputs": [],
   "source": [
    "# 코드 7-29 라이브러리 호출\n",
    "import torch\n",
    "import torch.nn as nn\n",
    "import torchvision.transforms as transforms\n",
    "import torchvision.datasets as dataset\n",
    "from torch.autograd import Variable\n",
    "from torch.nn import Parameter  # 파라미터 목록을 갖고 있는 라이브러리(패키지)\n",
    "from torch import Tensor\n",
    "import torch.nn.functional as F\n",
    "from torch.utils.data import DataLoader\n",
    "import math  # 수학과 관련되어 다양한 함수들과 상수들이 정의되어 있는 라이브러리\n",
    "\n",
    "device = torch.device(\"cuda:0\" if torch.cuda.is_available() else \"cpu\")\n",
    "cuda = (\n",
    "    True if torch.cuda.is_available() else False\n",
    ")  # GPU 사용에 필요(GPU는 8장에서 자세히 살펴볼 예정이지만 미리 눈으로 익혀 두세요)\n",
    "\n",
    "Tensor = torch.cuda.FloatTensor if cuda else torch.FloatTensor  # GPU 사용에 필요\n",
    "\n",
    "torch.manual_seed(125)\n",
    "if torch.cuda.is_available():\n",
    "    torch.cuda.manual_seed_all(125)"
   ]
  },
  {
   "cell_type": "code",
   "execution_count": 2,
   "metadata": {},
   "outputs": [],
   "source": [
    "# 코드 7-30 데이터 전처리\n",
    "import torchvision.transforms as transforms\n",
    "\n",
    "mnist_transform = transforms.Compose(\n",
    "    [\n",
    "        transforms.ToTensor(),\n",
    "        transforms.Normalize(\n",
    "            (0.5,), (1.0,)\n",
    "        ),  # 평균을 0.5, 표준편차를 1.0으로 데이터 정규화(데이터 분포를 조정)\n",
    "    ]\n",
    ")"
   ]
  },
  {
   "cell_type": "code",
   "execution_count": 3,
   "metadata": {},
   "outputs": [
    {
     "name": "stdout",
     "output_type": "stream",
     "text": [
      "Downloading http://yann.lecun.com/exdb/mnist/train-images-idx3-ubyte.gz\n",
      "Failed to download (trying next):\n",
      "HTTP Error 403: Forbidden\n",
      "\n",
      "Downloading https://ossci-datasets.s3.amazonaws.com/mnist/train-images-idx3-ubyte.gz\n",
      "Downloading https://ossci-datasets.s3.amazonaws.com/mnist/train-images-idx3-ubyte.gz to ../chap07/MNIST_DATASET/MNIST/raw/train-images-idx3-ubyte.gz\n"
     ]
    },
    {
     "data": {
      "application/vnd.jupyter.widget-view+json": {
       "model_id": "afcc70acba24464d9b1a6f30bbb86052",
       "version_major": 2,
       "version_minor": 0
      },
      "text/plain": [
       "  0%|          | 0/9912422 [00:00<?, ?it/s]"
      ]
     },
     "metadata": {},
     "output_type": "display_data"
    },
    {
     "name": "stdout",
     "output_type": "stream",
     "text": [
      "Extracting ../chap07/MNIST_DATASET/MNIST/raw/train-images-idx3-ubyte.gz to ../chap07/MNIST_DATASET/MNIST/raw\n",
      "\n",
      "Downloading http://yann.lecun.com/exdb/mnist/train-labels-idx1-ubyte.gz\n",
      "Failed to download (trying next):\n",
      "HTTP Error 403: Forbidden\n",
      "\n",
      "Downloading https://ossci-datasets.s3.amazonaws.com/mnist/train-labels-idx1-ubyte.gz\n",
      "Downloading https://ossci-datasets.s3.amazonaws.com/mnist/train-labels-idx1-ubyte.gz to ../chap07/MNIST_DATASET/MNIST/raw/train-labels-idx1-ubyte.gz\n"
     ]
    },
    {
     "data": {
      "application/vnd.jupyter.widget-view+json": {
       "model_id": "1f9ab4b2152f43d2baaf6d5337ecb8b6",
       "version_major": 2,
       "version_minor": 0
      },
      "text/plain": [
       "  0%|          | 0/28881 [00:00<?, ?it/s]"
      ]
     },
     "metadata": {},
     "output_type": "display_data"
    },
    {
     "name": "stdout",
     "output_type": "stream",
     "text": [
      "Extracting ../chap07/MNIST_DATASET/MNIST/raw/train-labels-idx1-ubyte.gz to ../chap07/MNIST_DATASET/MNIST/raw\n",
      "\n",
      "Downloading http://yann.lecun.com/exdb/mnist/t10k-images-idx3-ubyte.gz\n",
      "Failed to download (trying next):\n",
      "HTTP Error 403: Forbidden\n",
      "\n",
      "Downloading https://ossci-datasets.s3.amazonaws.com/mnist/t10k-images-idx3-ubyte.gz\n",
      "Downloading https://ossci-datasets.s3.amazonaws.com/mnist/t10k-images-idx3-ubyte.gz to ../chap07/MNIST_DATASET/MNIST/raw/t10k-images-idx3-ubyte.gz\n"
     ]
    },
    {
     "data": {
      "application/vnd.jupyter.widget-view+json": {
       "model_id": "454165f984694649ba027821c18a6024",
       "version_major": 2,
       "version_minor": 0
      },
      "text/plain": [
       "  0%|          | 0/1648877 [00:00<?, ?it/s]"
      ]
     },
     "metadata": {},
     "output_type": "display_data"
    },
    {
     "name": "stdout",
     "output_type": "stream",
     "text": [
      "Extracting ../chap07/MNIST_DATASET/MNIST/raw/t10k-images-idx3-ubyte.gz to ../chap07/MNIST_DATASET/MNIST/raw\n",
      "\n",
      "Downloading http://yann.lecun.com/exdb/mnist/t10k-labels-idx1-ubyte.gz\n",
      "Failed to download (trying next):\n",
      "HTTP Error 403: Forbidden\n",
      "\n",
      "Downloading https://ossci-datasets.s3.amazonaws.com/mnist/t10k-labels-idx1-ubyte.gz\n",
      "Downloading https://ossci-datasets.s3.amazonaws.com/mnist/t10k-labels-idx1-ubyte.gz to ../chap07/MNIST_DATASET/MNIST/raw/t10k-labels-idx1-ubyte.gz\n"
     ]
    },
    {
     "data": {
      "application/vnd.jupyter.widget-view+json": {
       "model_id": "46c8609dd3d04656acc317032ea736e6",
       "version_major": 2,
       "version_minor": 0
      },
      "text/plain": [
       "  0%|          | 0/4542 [00:00<?, ?it/s]"
      ]
     },
     "metadata": {},
     "output_type": "display_data"
    },
    {
     "name": "stdout",
     "output_type": "stream",
     "text": [
      "Extracting ../chap07/MNIST_DATASET/MNIST/raw/t10k-labels-idx1-ubyte.gz to ../chap07/MNIST_DATASET/MNIST/raw\n",
      "\n"
     ]
    },
    {
     "name": "stderr",
     "output_type": "stream",
     "text": [
      "/home/halozhan/딥러닝 파이토치 교과서/.venv/lib/python3.8/site-packages/torchvision/datasets/mnist.py:498: UserWarning: The given NumPy array is not writeable, and PyTorch does not support non-writeable tensors. This means you can write to the underlying (supposedly non-writeable) NumPy array using the tensor. You may want to copy the array to protect its data or make it writeable before converting it to a tensor. This type of warning will be suppressed for the rest of this program. (Triggered internally at  ../torch/csrc/utils/tensor_numpy.cpp:180.)\n",
      "  return torch.from_numpy(parsed.astype(m[2], copy=False)).view(*s)\n"
     ]
    }
   ],
   "source": [
    "# 코드 7-31 데이터셋 내려받기\n",
    "from torchvision.datasets import MNIST\n",
    "\n",
    "download_root = \"../chap07/MNIST_DATASET\"  # MNIST를 내려받을 경로\n",
    "\n",
    "train_dataset = MNIST(\n",
    "    download_root, transform=mnist_transform, train=True, download=True\n",
    ")\n",
    "valid_dataset = MNIST(\n",
    "    download_root, transform=mnist_transform, train=False, download=True\n",
    ")\n",
    "test_dataset = MNIST(\n",
    "    download_root, transform=mnist_transform, train=False, download=True\n",
    ")"
   ]
  },
  {
   "cell_type": "code",
   "execution_count": 4,
   "metadata": {},
   "outputs": [],
   "source": [
    "# 코드 7-32 데이터셋을 메모리로 가져오기\n",
    "batch_size = 64\n",
    "train_loader = DataLoader(dataset=train_dataset, batch_size=batch_size, shuffle=True)\n",
    "valid_loader = DataLoader(dataset=test_dataset, batch_size=batch_size, shuffle=True)\n",
    "test_loader = DataLoader(dataset=test_dataset, batch_size=batch_size, shuffle=True)"
   ]
  },
  {
   "cell_type": "code",
   "execution_count": 5,
   "metadata": {},
   "outputs": [],
   "source": [
    "# 코드 7-33 변수 값 지정\n",
    "batch_size = 100\n",
    "n_iters = 6000\n",
    "num_epochs = n_iters / (len(train_dataset) / batch_size)\n",
    "num_epochs = int(num_epochs)"
   ]
  },
  {
   "cell_type": "code",
   "execution_count": 6,
   "metadata": {},
   "outputs": [],
   "source": [
    "# 코드 7-34 LSTM 셀 네트워크 구축\n",
    "class LSTMCell(\n",
    "    nn.Module\n",
    "):  # LSTM 셀에 대한 더 자세한 설명을 원한다면 http://www.bioinf.jku.at/publications/older/2604.pdf 논문을 참고하세요.\n",
    "    def __init__(self, input_size, hidden_size, bias=True):\n",
    "        super(LSTMCell, self).__init__()\n",
    "        self.input_size = input_size\n",
    "        self.hidden_size = hidden_size\n",
    "        self.bias = bias\n",
    "        self.x2h = nn.Linear(input_size, 4 * hidden_size, bias=bias)\n",
    "        self.h2h = nn.Linear(hidden_size, 4 * hidden_size, bias=bias)\n",
    "        self.reset_parameters()\n",
    "\n",
    "    def reset_parameters(self):  # 모델의 파라미터 초기화\n",
    "        std = 1.0 / math.sqrt(self.hidden_size)\n",
    "        for w in self.parameters():\n",
    "            w.data.uniform_(-std, std)  # ②\n",
    "\n",
    "    def forward(self, x, hidden):\n",
    "        hx, cx = hidden\n",
    "        x = x.view(-1, x.size(1))\n",
    "\n",
    "        gates = self.x2h(x) + self.h2h(hx)\n",
    "        gates = gates.squeeze()\n",
    "        ingate, forgetgate, cellgate, outgate = gates.chunk(4, 1)\n",
    "\n",
    "        ingate = F.sigmoid(ingate)  # 입력 게이트에 시그모이드 활성화 함수 적용\n",
    "        forgetgate = F.sigmoid(forgetgate)  # 망각 게이트에 시그모이드 활성화 함수 적용\n",
    "        cellgate = F.tanh(cellgate)  # 셀 게이트에 탄젠트 활성화 함수 적용\n",
    "        outgate = F.sigmoid(outgate)  # 출력 게이트에 시그모이드 활성화 함수 적용\n",
    "\n",
    "        cy = torch.mul(cx, forgetgate) + torch.mul(ingate, cellgate)\n",
    "        hy = torch.mul(outgate, F.tanh(cy))\n",
    "        return (hy, cy)"
   ]
  },
  {
   "cell_type": "code",
   "execution_count": 7,
   "metadata": {},
   "outputs": [],
   "source": [
    "# 코드 7-35 LSTM 셀의 전반적인 네트워크\n",
    "class LSTMModel(nn.Module):\n",
    "    def __init__(self, input_dim, hidden_dim, layer_dim, output_dim, bias=True):\n",
    "        super(LSTMModel, self).__init__()\n",
    "        self.hidden_dim = hidden_dim  # 은닉층의 뉴런/유닛 개수\n",
    "\n",
    "        self.layer_dim = layer_dim\n",
    "        self.lstm = LSTMCell(input_dim, hidden_dim, layer_dim)\n",
    "        self.fc = nn.Linear(hidden_dim, output_dim)\n",
    "\n",
    "    def forward(self, x):\n",
    "        if torch.cuda.is_available():  # GPU 사용 유무 확인\n",
    "            h0 = Variable(\n",
    "                torch.zeros(self.layer_dim, x.size(0), self.hidden_dim).cuda()\n",
    "            )  # (은닉층의 계층 개수, 배치 크기, 은닉층의 뉴런 개수) 형태를 갖는 은닉 상태를 0으로 초기화\n",
    "        else:\n",
    "            h0 = Variable(torch.zeros(self.layer_dim, x.size(0), self.hidden_dim))\n",
    "\n",
    "        if torch.cuda.is_available():  # GPU 사용 유무 확인\n",
    "            c0 = Variable(\n",
    "                torch.zeros(self.layer_dim, x.size(0), self.hidden_dim).cuda()\n",
    "            )  # (은닉층의 계층 개수, 배치 크기, 은닉층의 뉴런 개수) 형태를 갖는 셀 상태를 0으로 초기화\n",
    "        else:\n",
    "            c0 = Variable(torch.zeros(self.layer_dim, x.size(0), hidden_dim))\n",
    "\n",
    "        outs = []\n",
    "        cn = c0[\n",
    "            0, :, :\n",
    "        ]  # (은닉층의 계층 개수, 배치 크기, 은닉층의 뉴런 개수) 크기를 갖는 셀 상태에 대한 텐서\n",
    "        hn = h0[\n",
    "            0, :, :\n",
    "        ]  # (은닉층의 계층 개수, 배치 크기, 은닉층의 뉴런 개수) 크기를 갖는 은닉 상태에 대한 텐서\n",
    "\n",
    "        for seq in range(x.size(1)):  # LSTM 셀 계층을 반복하여 쌓아 올립니다.\n",
    "            hn, cn = self.lstm(\n",
    "                x[:, seq, :], (hn, cn)\n",
    "            )  # 은닉 상태(hn)와 셀 상태를 LSTMCell에 적용한 결과를 또다시 hn, cn에 저장\n",
    "            outs.append(hn)\n",
    "\n",
    "        out = outs[-1].squeeze()\n",
    "        out = self.fc(out)\n",
    "        return out"
   ]
  },
  {
   "cell_type": "code",
   "execution_count": 8,
   "metadata": {},
   "outputs": [],
   "source": [
    "# 코드 7-36 옵티마이저와 손실 함수 지정\n",
    "input_dim = 28\n",
    "hidden_dim = 128\n",
    "layer_dim = 1\n",
    "output_dim = 10\n",
    "\n",
    "model = LSTMModel(input_dim, hidden_dim, layer_dim, output_dim)\n",
    "if torch.cuda.is_available():  # GPU 사용 유무 확인\n",
    "    model.cuda()\n",
    "criterion = nn.CrossEntropyLoss()\n",
    "learning_rate = 0.1\n",
    "optimizer = torch.optim.SGD(model.parameters(), lr=learning_rate)"
   ]
  },
  {
   "cell_type": "code",
   "execution_count": 9,
   "metadata": {},
   "outputs": [
    {
     "name": "stderr",
     "output_type": "stream",
     "text": [
      "/home/halozhan/딥러닝 파이토치 교과서/.venv/lib/python3.8/site-packages/torch/nn/functional.py:1805: UserWarning: nn.functional.sigmoid is deprecated. Use torch.sigmoid instead.\n",
      "  warnings.warn(\"nn.functional.sigmoid is deprecated. Use torch.sigmoid instead.\")\n",
      "/home/halozhan/딥러닝 파이토치 교과서/.venv/lib/python3.8/site-packages/torch/nn/functional.py:1794: UserWarning: nn.functional.tanh is deprecated. Use torch.tanh instead.\n",
      "  warnings.warn(\"nn.functional.tanh is deprecated. Use torch.tanh instead.\")\n"
     ]
    },
    {
     "name": "stdout",
     "output_type": "stream",
     "text": [
      "Iteration: 500. Loss: 2.237457275390625. Accuracy: 21.420000076293945\n",
      "Iteration: 1000. Loss: 0.8789322376251221. Accuracy: 74.98999786376953\n",
      "Iteration: 1500. Loss: 0.4282386898994446. Accuracy: 89.05000305175781\n",
      "Iteration: 2000. Loss: 0.253286749124527. Accuracy: 92.22000122070312\n",
      "Iteration: 2500. Loss: 0.05650099366903305. Accuracy: 95.80999755859375\n",
      "Iteration: 3000. Loss: 0.06671759486198425. Accuracy: 96.1500015258789\n",
      "Iteration: 3500. Loss: 0.12194900959730148. Accuracy: 95.4800033569336\n",
      "Iteration: 4000. Loss: 0.03753276541829109. Accuracy: 96.95999908447266\n",
      "Iteration: 4500. Loss: 0.05447082221508026. Accuracy: 97.29000091552734\n",
      "Iteration: 5000. Loss: 0.08735618740320206. Accuracy: 96.95999908447266\n",
      "Iteration: 5500. Loss: 0.16384145617485046. Accuracy: 97.37000274658203\n",
      "Iteration: 6000. Loss: 0.007440885063260794. Accuracy: 97.70999908447266\n",
      "Iteration: 6500. Loss: 0.03292839229106903. Accuracy: 97.80000305175781\n",
      "Iteration: 7000. Loss: 0.025537937879562378. Accuracy: 97.63999938964844\n",
      "Iteration: 7500. Loss: 0.017459899187088013. Accuracy: 97.73999786376953\n",
      "Iteration: 8000. Loss: 0.03957199305295944. Accuracy: 97.81999969482422\n",
      "Iteration: 8500. Loss: 0.012386147864162922. Accuracy: 98.12000274658203\n",
      "Iteration: 9000. Loss: 0.031614433974027634. Accuracy: 98.06999969482422\n"
     ]
    }
   ],
   "source": [
    "# 코드 7-37 모델 학습 및 성능 확인\n",
    "seq_dim = 28\n",
    "loss_list = []\n",
    "iter = 0\n",
    "for epoch in range(num_epochs):\n",
    "    for i, (images, labels) in enumerate(\n",
    "        train_loader\n",
    "    ):  # 훈련 데이터셋을 이용한 모델 학습\n",
    "        if torch.cuda.is_available():  # GPU 사용 유무 확인\n",
    "            images = Variable(images.view(-1, seq_dim, input_dim).cuda())\n",
    "            labels = Variable(labels.cuda())\n",
    "        else:  # GPU를 사용하지 않기 때문에 else 구문이 실행\n",
    "            images = Variable(images.view(-1, seq_dim, input_dim))\n",
    "            labels = Variable(labels)\n",
    "\n",
    "        optimizer.zero_grad()\n",
    "        outputs = model(images)\n",
    "        loss = criterion(outputs, labels)  # 손실 함수를 이용하여 오차 계산\n",
    "\n",
    "        if torch.cuda.is_available():\n",
    "            loss.cuda()\n",
    "\n",
    "        loss.backward()\n",
    "        optimizer.step()  # 파라미터 업데이트\n",
    "        loss_list.append(loss.item())\n",
    "        iter += 1\n",
    "\n",
    "        if iter % 500 == 0:  # 정확도(accuracy) 계산\n",
    "            correct = 0\n",
    "            total = 0\n",
    "            for images, labels in valid_loader:  # 검증 데이터셋을 이용한 모델 성능 검증\n",
    "\n",
    "                if torch.cuda.is_available():\n",
    "                    images = Variable(images.view(-1, seq_dim, input_dim).cuda())\n",
    "                else:\n",
    "                    images = Variable(images.view(-1, seq_dim, input_dim))\n",
    "\n",
    "                outputs = model(images)\n",
    "                _, predicted = torch.max(\n",
    "                    outputs.data, 1\n",
    "                )  # 모델을 통과한 결과의 최댓값으로부터 예측 결과 가져오기\n",
    "\n",
    "                total += labels.size(0)  # 총 레이블 수\n",
    "                if torch.cuda.is_available():\n",
    "                    correct += (predicted.cpu() == labels.cpu()).sum()\n",
    "                else:\n",
    "                    correct += (predicted == labels).sum()\n",
    "\n",
    "            accuracy = 100 * correct / total\n",
    "            print(\n",
    "                \"Iteration: {}. Loss: {}. Accuracy: {}\".format(\n",
    "                    iter, loss.item(), accuracy\n",
    "                )\n",
    "            )"
   ]
  },
  {
   "cell_type": "code",
   "execution_count": 12,
   "metadata": {},
   "outputs": [],
   "source": [
    "# 코드 7-38 테스트 데이터셋을 이용한 모델 예측 성능 확인\n",
    "def evaluate(model, val_iter):\n",
    "    corrects, total, total_loss = 0, 0, 0\n",
    "    model.eval()\n",
    "    for images, labels in val_iter:\n",
    "        if torch.cuda.is_available():  # GPU 사용 유무 확인\n",
    "            images = Variable(images.view(-1, seq_dim, input_dim).cuda())\n",
    "        else:\n",
    "            images = Variable(images.view(-1, seq_dim, input_dim)).to(device)\n",
    "\n",
    "        logit = model(images).to(device)\n",
    "        labels = labels.to(device)\n",
    "        loss = F.cross_entropy(\n",
    "            logit, labels, reduction=\"sum\"\n",
    "        )  # reduction=‘sum’을 지정했기 때문에 모든 오차를 더합니다.\n",
    "        _, predicted = torch.max(\n",
    "            logit.data, 1\n",
    "        )  # logit.data 텐서에서 최댓값의 인덱스(index)를 반환\n",
    "        total += labels.size(0)\n",
    "        total_loss += loss.item()\n",
    "        corrects += (predicted == labels).sum()\n",
    "\n",
    "    avg_loss = total_loss / len(val_iter.dataset)\n",
    "    avg_accuracy = corrects / total\n",
    "    return avg_loss, avg_accuracy"
   ]
  },
  {
   "cell_type": "code",
   "execution_count": 13,
   "metadata": {},
   "outputs": [
    {
     "name": "stderr",
     "output_type": "stream",
     "text": [
      "/home/halozhan/딥러닝 파이토치 교과서/.venv/lib/python3.8/site-packages/torch/nn/functional.py:1805: UserWarning: nn.functional.sigmoid is deprecated. Use torch.sigmoid instead.\n",
      "  warnings.warn(\"nn.functional.sigmoid is deprecated. Use torch.sigmoid instead.\")\n",
      "/home/halozhan/딥러닝 파이토치 교과서/.venv/lib/python3.8/site-packages/torch/nn/functional.py:1794: UserWarning: nn.functional.tanh is deprecated. Use torch.tanh instead.\n",
      "  warnings.warn(\"nn.functional.tanh is deprecated. Use torch.tanh instead.\")\n"
     ]
    },
    {
     "name": "stdout",
     "output_type": "stream",
     "text": [
      "Test Loss:  0.06 | Test Accuracy:  0.98\n"
     ]
    }
   ],
   "source": [
    "# 코드 7-39 모델 예측 성능 확인\n",
    "test_loss, test_acc = evaluate(model, test_loader)\n",
    "print(\"Test Loss: %5.2f | Test Accuracy: %5.2f\" % (test_loss, test_acc))"
   ]
  }
 ],
 "metadata": {
  "kernelspec": {
   "display_name": ".venv",
   "language": "python",
   "name": "python3"
  },
  "language_info": {
   "codemirror_mode": {
    "name": "ipython",
    "version": 3
   },
   "file_extension": ".py",
   "mimetype": "text/x-python",
   "name": "python",
   "nbconvert_exporter": "python",
   "pygments_lexer": "ipython3",
   "version": "3.8.20"
  }
 },
 "nbformat": 4,
 "nbformat_minor": 2
}
