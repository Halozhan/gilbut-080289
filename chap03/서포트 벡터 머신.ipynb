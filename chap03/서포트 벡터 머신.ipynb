{
 "cells": [
  {
   "cell_type": "code",
   "execution_count": 5,
   "metadata": {},
   "outputs": [],
   "source": [
    "# 코드 3-6 라이브러리 호출\n",
    "from sklearn import svm\n",
    "from sklearn import metrics\n",
    "from sklearn import datasets\n",
    "from sklearn import model_selection\n",
    "import tensorflow as tf\n",
    "import os\n",
    "\n",
    "os.environ[\"TF_CPP_MIN_LOG_LEVEL\"] = \"3\""
   ]
  },
  {
   "cell_type": "code",
   "execution_count": 6,
   "metadata": {},
   "outputs": [],
   "source": [
    "# 코드 3-7 iris 데이터를 준비하고 훈련과 테스트 데이터셋으로 분리\n",
    "iris = datasets.load_iris()  # 사이킷런에서 제공하는 iris 데이터 호출\n",
    "X_train, X_test, y_train, y_test = model_selection.train_test_split(\n",
    "    iris.data, iris.target, test_size=0.6, random_state=42\n",
    ")  # 사이킷런의 model_selection 패키지에서 제공하는 train_test_split 메서드를 활용하여 훈련과 테스트 데이터셋으로 분리"
   ]
  },
  {
   "cell_type": "code",
   "execution_count": 7,
   "metadata": {},
   "outputs": [
    {
     "name": "stdout",
     "output_type": "stream",
     "text": [
      "정확도: 0.988889\n"
     ]
    }
   ],
   "source": [
    "# 코드 3-8 SVM 모델에 대한 정확도\n",
    "svm = svm.SVC(kernel=\"linear\", C=1.0, gamma=0.5)\n",
    "svm.fit(X_train, y_train)  # 훈련 데이터를 사용하여 SVM 분류기를 훈련\n",
    "predictions = svm.predict(X_test)  # 훈련된 모델을 사용하여 테스트 데이터에서 예측\n",
    "score = metrics.accuracy_score(y_test, predictions)\n",
    "print(\"정확도: {0:f}\".format(score))  # 테스트 데이터 (예측) 정확도 측정"
   ]
  }
 ],
 "metadata": {
  "kernelspec": {
   "display_name": ".venv",
   "language": "python",
   "name": "python3"
  },
  "language_info": {
   "codemirror_mode": {
    "name": "ipython",
    "version": 3
   },
   "file_extension": ".py",
   "mimetype": "text/x-python",
   "name": "python",
   "nbconvert_exporter": "python",
   "pygments_lexer": "ipython3",
   "version": "3.8.20"
  }
 },
 "nbformat": 4,
 "nbformat_minor": 2
}
