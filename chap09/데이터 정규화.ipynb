{
 "cells": [
  {
   "cell_type": "code",
   "execution_count": 1,
   "metadata": {},
   "outputs": [],
   "source": [
    "# 코드 9-27 라이브러리 호출\n",
    "import pandas as pd\n",
    "import torch\n",
    "import torch.nn as nn\n",
    "from torch.utils.data import Dataset, DataLoader\n",
    "\n",
    "from sklearn.model_selection import (\n",
    "    train_test_split,\n",
    ")  # 데이터셋을 훈련과 테스트 용도로 분리하기 위한 라이브러리\n",
    "from sklearn.preprocessing import (\n",
    "    StandardScaler,\n",
    "    MinMaxScaler,\n",
    ")  # 정규화와 관련된 라이브러리\n",
    "\n",
    "device = torch.device(\"cuda\" if torch.cuda.is_available() else \"cpu\")"
   ]
  },
  {
   "cell_type": "code",
   "execution_count": 2,
   "metadata": {},
   "outputs": [],
   "source": [
    "# 코드 9-28 데이터셋 경로 지정 및 훈련과 테스트 용도로 분리\n",
    "df = pd.read_csv(\"../chap09/data/diabetes.csv\")\n",
    "X = df[df.columns[:-1]]  # 여덟 개의 칼럼은 당뇨병을 예측하는 데 사용\n",
    "y = df[\"Outcome\"]  # 당뇨병인지 아닌지 나타내는 레이블(정답)\n",
    "\n",
    "X = X.values\n",
    "y = torch.tensor(y.values)\n",
    "X_train, X_test, y_train, y_test = train_test_split(X, y, test_size=0.33)"
   ]
  },
  {
   "cell_type": "code",
   "execution_count": 3,
   "metadata": {},
   "outputs": [],
   "source": [
    "# 코드 9-29 훈련과 테스트용 데이터를 정규화\n",
    "ms = MinMaxScaler()  # ①\n",
    "ss = StandardScaler()  # ②\n",
    "\n",
    "X_train = ss.fit_transform(X_train)\n",
    "X_test = ss.fit_transform(X_test)\n",
    "y_train = y_train.reshape(-1, 1)  # (?, 1)의 형태를 갖도록 변경, 즉 열의 수만 1로 고정\n",
    "y_test = y_test.reshape(-1, 1)\n",
    "y_train = ms.fit_transform(y_train)\n",
    "y_test = ms.fit_transform(y_test)"
   ]
  },
  {
   "cell_type": "code",
   "execution_count": 4,
   "metadata": {},
   "outputs": [],
   "source": [
    "# 코드 9-30 커스텀 데이터셋 생성\n",
    "class customdataset(Dataset):\n",
    "    def __init__(self, X, y):\n",
    "        self.X = X\n",
    "        self.y = y\n",
    "        self.len = len(self.X)\n",
    "\n",
    "    def __getitem__(self, index):\n",
    "        return self.X[index], self.y[index]\n",
    "\n",
    "    def __len__(self):\n",
    "        return self.len"
   ]
  },
  {
   "cell_type": "code",
   "execution_count": 5,
   "metadata": {},
   "outputs": [],
   "source": [
    "# 코드 9-31 데이터로더에 데이터 담기\n",
    "train_data = customdataset(torch.FloatTensor(X_train), torch.FloatTensor(y_train))\n",
    "test_data = customdataset(torch.FloatTensor(X_test), torch.FloatTensor(y_test))\n",
    "\n",
    "train_loader = DataLoader(dataset=train_data, batch_size=64, shuffle=True)\n",
    "test_loader = DataLoader(dataset=test_data, batch_size=64, shuffle=False)"
   ]
  },
  {
   "cell_type": "code",
   "execution_count": 6,
   "metadata": {},
   "outputs": [],
   "source": [
    "# 코드 9-32 네트워크 생성\n",
    "class binaryClassification(nn.Module):\n",
    "    def __init__(self):\n",
    "        super(binaryClassification, self).__init__()\n",
    "        self.layer_1 = nn.Linear(\n",
    "            8, 64, bias=True\n",
    "        )  # 칼럼이 여덟 개이므로 입력 크기는 8을 사용\n",
    "        self.layer_2 = nn.Linear(64, 64, bias=True)\n",
    "        self.layer_out = nn.Linear(\n",
    "            64, 1, bias=True\n",
    "        )  # 출력으로는 당뇨인지 아닌지를 나타내는 0과 1의 값만 가지므로 1을 사용\n",
    "        self.relu = nn.ReLU()\n",
    "        self.dropout = nn.Dropout(p=0.1)\n",
    "        self.batchnorm1 = nn.BatchNorm1d(64)\n",
    "        self.batchnorm2 = nn.BatchNorm1d(64)\n",
    "\n",
    "    def forward(self, inputs):\n",
    "        x = self.relu(self.layer_1(inputs))\n",
    "        x = self.batchnorm1(x)\n",
    "        x = self.relu(self.layer_2(x))\n",
    "        x = self.batchnorm2(x)\n",
    "        x = self.dropout(x)\n",
    "        x = self.layer_out(x)\n",
    "        return x"
   ]
  },
  {
   "cell_type": "code",
   "execution_count": 7,
   "metadata": {},
   "outputs": [
    {
     "name": "stdout",
     "output_type": "stream",
     "text": [
      "binaryClassification(\n",
      "  (layer_1): Linear(in_features=8, out_features=64, bias=True)\n",
      "  (layer_2): Linear(in_features=64, out_features=64, bias=True)\n",
      "  (layer_out): Linear(in_features=64, out_features=1, bias=True)\n",
      "  (relu): ReLU()\n",
      "  (dropout): Dropout(p=0.1, inplace=False)\n",
      "  (batchnorm1): BatchNorm1d(64, eps=1e-05, momentum=0.1, affine=True, track_running_stats=True)\n",
      "  (batchnorm2): BatchNorm1d(64, eps=1e-05, momentum=0.1, affine=True, track_running_stats=True)\n",
      ")\n"
     ]
    }
   ],
   "source": [
    "# 코드 9-33 손실 함수와 옵티마이저 지정\n",
    "epochs = 1000 + 1\n",
    "print_epoch = 100\n",
    "LEARNING_RATE = 1e-2\n",
    "\n",
    "model = binaryClassification()\n",
    "model.to(device)\n",
    "print(model)\n",
    "BCE = nn.BCEWithLogitsLoss()  # ①\n",
    "optimizer = torch.optim.SGD(\n",
    "    model.parameters(), lr=LEARNING_RATE\n",
    ")  # 훈련 데이터셋에서 무작위로 샘플을 추출하고 그 샘플만 이용해서 기울기를 계산"
   ]
  },
  {
   "cell_type": "code",
   "execution_count": 8,
   "metadata": {},
   "outputs": [],
   "source": [
    "# 코드 9-34 모델 성능 측정 함수 정의\n",
    "def accuracy(y_pred, y_test):\n",
    "    y_pred_tag = torch.round(torch.sigmoid(y_pred))\n",
    "    correct_results_sum = (\n",
    "        (y_pred_tag == y_test).sum().float()\n",
    "    )  # 실제 정답과 모델의 결과가 일치하는 개수를 실수 형태로 변수에 저장\n",
    "    acc = correct_results_sum / y_test.shape[0]\n",
    "    acc = torch.round(acc * 100)  # ①\n",
    "    return acc"
   ]
  },
  {
   "cell_type": "code",
   "execution_count": 13,
   "metadata": {},
   "outputs": [
    {
     "name": "stdout",
     "output_type": "stream",
     "text": [
      "Train: epoch: 0 - loss: 0.74742; acc: 49.222\n",
      "Test: epoch: 0 - loss: 0.68719; acc: 56.250\n",
      "Train: epoch: 100 - loss: 0.45943; acc: 78.556\n",
      "Test: epoch: 100 - loss: 0.50736; acc: 75.500\n",
      "Train: epoch: 200 - loss: 0.36649; acc: 86.444\n",
      "Test: epoch: 200 - loss: 0.47231; acc: 75.250\n",
      "Train: epoch: 300 - loss: 0.38391; acc: 83.667\n",
      "Test: epoch: 300 - loss: 0.48900; acc: 75.500\n",
      "Train: epoch: 400 - loss: 0.33234; acc: 85.556\n",
      "Test: epoch: 400 - loss: 0.49467; acc: 74.500\n",
      "Train: epoch: 500 - loss: 0.35625; acc: 86.222\n",
      "Test: epoch: 500 - loss: 0.54631; acc: 74.750\n",
      "Train: epoch: 600 - loss: 0.33831; acc: 88.333\n",
      "Test: epoch: 600 - loss: 0.49766; acc: 75.750\n",
      "Train: epoch: 700 - loss: 0.40947; acc: 83.444\n",
      "Test: epoch: 700 - loss: 0.48575; acc: 75.000\n",
      "Train: epoch: 800 - loss: 0.34388; acc: 87.444\n",
      "Test: epoch: 800 - loss: 0.52711; acc: 74.250\n",
      "Train: epoch: 900 - loss: 0.37066; acc: 80.333\n",
      "Test: epoch: 900 - loss: 0.51784; acc: 76.500\n",
      "Train: epoch: 1000 - loss: 0.36503; acc: 84.000\n",
      "Test: epoch: 1000 - loss: 0.45663; acc: 76.500\n"
     ]
    }
   ],
   "source": [
    "# 코드 9-35 모델 학습\n",
    "for epoch in range(epochs):\n",
    "    iteration_loss = 0.0  # 변수를 0으로 초기화\n",
    "    iteration_accuracy = 0.0\n",
    "\n",
    "    model.train()  # 모델 학습\n",
    "    for i, data in enumerate(\n",
    "        train_loader\n",
    "    ):  # 데이터로더에서 훈련 데이터셋을 배치 크기만큼 불러옵니다.\n",
    "        X, y = data\n",
    "        X, y = X.to(device), y.to(device)  # Move tensors to the same device as the model\n",
    "        y_pred = model(X.float())  # 독립 변수를 모델에 적용하여 훈련\n",
    "        loss = BCE(\n",
    "            y_pred, y.reshape(-1, 1).float()\n",
    "        )  # 모델에 적용하여 훈련시킨 결과와 정답(레이블)을 손실 함수에 적용\n",
    "\n",
    "        iteration_loss += loss  # 오차 값을 변수에 누적하여 저장\n",
    "        iteration_accuracy += accuracy(\n",
    "            y_pred, y\n",
    "        )  # 모델 성능(정확도)을 변수에 누적하여 저장\n",
    "        optimizer.zero_grad()\n",
    "        loss.backward()\n",
    "        optimizer.step()\n",
    "    if epoch % print_epoch == 0:\n",
    "        print(\n",
    "            \"Train: epoch: {0} - loss: {1:.5f}; acc: {2:.3f}\".format(\n",
    "                epoch, iteration_loss / (i + 1), iteration_accuracy / (i + 1)\n",
    "            )\n",
    "        )\n",
    "\n",
    "    iteration_loss = 0.0\n",
    "    iteration_accuracy = 0.0\n",
    "    model.eval()  # 모델 검증(테스트)\n",
    "    for i, data in enumerate(\n",
    "        test_loader\n",
    "    ):  # 데이터로더에서 테스트 데이터셋을 배치 크기만큼 불러옵니다.\n",
    "        X, y = data\n",
    "        X, y = X.to(device), y.to(device)  # Move tensors to the same device as the model\n",
    "        y_pred = model(X.float())\n",
    "        loss = BCE(y_pred, y.reshape(-1, 1).float())\n",
    "        iteration_loss += loss\n",
    "        iteration_accuracy += accuracy(y_pred, y)\n",
    "    if epoch % print_epoch == 0:\n",
    "        print(\n",
    "            \"Test: epoch: {0} - loss: {1:.5f}; acc: {2:.3f}\".format(\n",
    "                epoch, iteration_loss / (i + 1), iteration_accuracy / (i + 1)\n",
    "            )\n",
    "        )"
   ]
  }
 ],
 "metadata": {
  "kernelspec": {
   "display_name": ".venv",
   "language": "python",
   "name": "python3"
  },
  "language_info": {
   "codemirror_mode": {
    "name": "ipython",
    "version": 3
   },
   "file_extension": ".py",
   "mimetype": "text/x-python",
   "name": "python",
   "nbconvert_exporter": "python",
   "pygments_lexer": "ipython3",
   "version": "3.8.20"
  }
 },
 "nbformat": 4,
 "nbformat_minor": 2
}
