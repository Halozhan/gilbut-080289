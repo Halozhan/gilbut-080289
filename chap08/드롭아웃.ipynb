{
 "cells": [
  {
   "cell_type": "code",
   "execution_count": 1,
   "metadata": {},
   "outputs": [],
   "source": [
    "# 코드 8-1 라이브러리 호출\n",
    "import torch\n",
    "import matplotlib.pyplot as plt\n",
    "import numpy as np\n",
    "\n",
    "import torchvision\n",
    "import torchvision.transforms as transforms\n",
    "\n",
    "import torch.nn as nn\n",
    "import torch.optim as optim"
   ]
  },
  {
   "cell_type": "code",
   "execution_count": 2,
   "metadata": {},
   "outputs": [],
   "source": [
    "# 코드 8-17 드롭아웃을 위한 모델 생성\n",
    "\n",
    "N_h = 100\n",
    "model = torch.nn.Sequential(\n",
    "    torch.nn.Linear(1, N_h),\n",
    "    torch.nn.ReLU(),\n",
    "    torch.nn.Linear(N_h, N_h),\n",
    "    torch.nn.ReLU(),\n",
    "    torch.nn.Linear(N_h, 1),\n",
    ") # 드롭아웃이 적용되지 않은 모델\n",
    "\n",
    "model_dropout = torch.nn.Sequential(\n",
    "    torch.nn.Linear(1, N_h),\n",
    "    torch.nn.Dropout(0.2), # 드롭아웃 적용\n",
    "    torch.nn.ReLU(),\n",
    "    torch.nn.Linear(N_h, N_h),\n",
    "    torch.nn.Dropout(0.2),\n",
    "    torch.nn.ReLU(),\n",
    "    torch.nn.Linear(N_h, 1),\n",
    ") # 드롭아웃이 적용된 모델"
   ]
  },
  {
   "cell_type": "code",
   "execution_count": 3,
   "metadata": {},
   "outputs": [],
   "source": [
    "# 코드 8-18 옵티마이저와 손실 함수 지정\n",
    "opt = torch.optim.Adam(model.parameters(), lr=0.01)\n",
    "opt_dropout = torch.optim.Adam(model_dropout.parameters(), lr=0.01)\n",
    "loss_fn = torch.nn.MSELoss()"
   ]
  },
  {
   "cell_type": "code",
   "execution_count": 4,
   "metadata": {},
   "outputs": [
    {
     "ename": "NameError",
     "evalue": "name 'x_train' is not defined",
     "output_type": "error",
     "traceback": [
      "\u001b[0;31m---------------------------------------------------------------------------\u001b[0m",
      "\u001b[0;31mNameError\u001b[0m                                 Traceback (most recent call last)",
      "Cell \u001b[0;32mIn[4], line 4\u001b[0m\n\u001b[1;32m      2\u001b[0m max_epochs \u001b[38;5;241m=\u001b[39m \u001b[38;5;241m1000\u001b[39m\n\u001b[1;32m      3\u001b[0m \u001b[38;5;28;01mfor\u001b[39;00m epoch \u001b[38;5;129;01min\u001b[39;00m \u001b[38;5;28mrange\u001b[39m(max_epochs):\n\u001b[0;32m----> 4\u001b[0m     pred \u001b[38;5;241m=\u001b[39m model(\u001b[43mx_train\u001b[49m)  \u001b[38;5;66;03m# 드롭아웃이 적용되지 않은 모델 학습\u001b[39;00m\n\u001b[1;32m      5\u001b[0m     loss \u001b[38;5;241m=\u001b[39m loss_fn(pred, y_train)\n\u001b[1;32m      6\u001b[0m     opt\u001b[38;5;241m.\u001b[39mzero_grad()\n",
      "\u001b[0;31mNameError\u001b[0m: name 'x_train' is not defined"
     ]
    }
   ],
   "source": [
    "# 코드 8-19 모델 학습\n",
    "max_epochs = 1000\n",
    "for epoch in range(max_epochs):\n",
    "    pred = model(x_train)  # 드롭아웃이 적용되지 않은 모델 학습\n",
    "    loss = loss_fn(pred, y_train)\n",
    "    opt.zero_grad()\n",
    "    loss.backward()\n",
    "    opt.step()\n",
    "\n",
    "    pred_dropout = model_dropout(x_train)  # 드롭아웃이 적용된 모델 학습\n",
    "    loss_dropout = loss_fn(pred_dropout, y_train)\n",
    "    opt_dropout.zero_grad()\n",
    "    loss_dropout.backward()\n",
    "    opt_dropout.step()\n",
    "\n",
    "    if epoch % 50 == 0:  # epoch를 50으로 나눈 나머지가 0이면 다음 진행\n",
    "        model.eval()\n",
    "        model_dropout.eval()\n",
    "\n",
    "        test_pred = model(x_test)\n",
    "        test_loss = loss_fn(test_pred, y_test)\n",
    "\n",
    "        test_pred_dropout = model_dropout(x_test)\n",
    "        test_loss_dropout = loss_fn(test_pred_dropout, y_test)\n",
    "\n",
    "        plt.scatter(\n",
    "            x_train.data.numpy(),\n",
    "            y_train.data.numpy(),\n",
    "            c=\"purple\",\n",
    "            alpha=0.5,\n",
    "            label=\"train\",\n",
    "        )\n",
    "        plt.scatter(\n",
    "            x_test.data.numpy(),\n",
    "            y_test.data.numpy(),\n",
    "            c=\"yellow\",\n",
    "            alpha=0.5,\n",
    "            label=\"test\",\n",
    "        )\n",
    "        plt.plot(\n",
    "            x_test.data.numpy(), test_pred.data.numpy(), \"b-\", lw=3, label=\"normal\"\n",
    "        )  # 파란색 실선으로 x축은 테스트 데이터셋, y축은 드롭아웃이 적용되지 않은 모델의 결과를 그래프로 출력\n",
    "        plt.plot(\n",
    "            x_test.data.numpy(),\n",
    "            test_pred_dropout.data.numpy(),\n",
    "            \"g--\",\n",
    "            lw=3,\n",
    "            label=\"dropout\",\n",
    "        )  # 초록색 점선으로 x축은 테스트 데이터셋, y축은 드롭아웃이 적용된 모델의 결과를 그래프로 출력\n",
    "        plt.title(\n",
    "            \"Epoch %d, Loss=%0.4f, Loss with dropout=%0.4f\"\n",
    "            % (epoch, test_loss, test_loss_dropout)\n",
    "        )  # 에포크, 드롭아웃이 적용되지 않은 모델의 오차, 드롭아웃이 적용된 모델의 오차를 타이틀로 출력\n",
    "        plt.legend()\n",
    "        model.train()\n",
    "        model_dropout.train()\n",
    "        plt.pause(0.05)"
   ]
  }
 ],
 "metadata": {
  "kernelspec": {
   "display_name": ".venv",
   "language": "python",
   "name": "python3"
  },
  "language_info": {
   "codemirror_mode": {
    "name": "ipython",
    "version": 3
   },
   "file_extension": ".py",
   "mimetype": "text/x-python",
   "name": "python",
   "nbconvert_exporter": "python",
   "pygments_lexer": "ipython3",
   "version": "3.8.20"
  }
 },
 "nbformat": 4,
 "nbformat_minor": 2
}
